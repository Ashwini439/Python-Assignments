{
  "metadata": {
    "language_info": {
      "codemirror_mode": {
        "name": "python",
        "version": 3
      },
      "file_extension": ".py",
      "mimetype": "text/x-python",
      "name": "python",
      "nbconvert_exporter": "python",
      "pygments_lexer": "ipython3",
      "version": "3.8"
    },
    "kernelspec": {
      "name": "python",
      "display_name": "Python (Pyodide)",
      "language": "python"
    }
  },
  "nbformat_minor": 4,
  "nbformat": 4,
  "cells": [
    {
      "cell_type": "code",
      "source": "m=\"ashwini\"",
      "metadata": {
        "trusted": true
      },
      "execution_count": 16,
      "outputs": []
    },
    {
      "cell_type": "code",
      "source": "m",
      "metadata": {
        "trusted": true
      },
      "execution_count": 17,
      "outputs": [
        {
          "execution_count": 17,
          "output_type": "execute_result",
          "data": {
            "text/plain": "'ashwini'"
          },
          "metadata": {}
        }
      ]
    },
    {
      "cell_type": "code",
      "source": "m[::-1]",
      "metadata": {
        "trusted": true
      },
      "execution_count": 18,
      "outputs": [
        {
          "execution_count": 18,
          "output_type": "execute_result",
          "data": {
            "text/plain": "'iniwhsa'"
          },
          "metadata": {}
        }
      ]
    },
    {
      "cell_type": "code",
      "source": "m[1:2]",
      "metadata": {
        "trusted": true
      },
      "execution_count": 19,
      "outputs": [
        {
          "execution_count": 19,
          "output_type": "execute_result",
          "data": {
            "text/plain": "'s'"
          },
          "metadata": {}
        }
      ]
    },
    {
      "cell_type": "code",
      "source": "m[1:5:1]",
      "metadata": {
        "trusted": true
      },
      "execution_count": 20,
      "outputs": [
        {
          "execution_count": 20,
          "output_type": "execute_result",
          "data": {
            "text/plain": "'shwi'"
          },
          "metadata": {}
        }
      ]
    },
    {
      "cell_type": "code",
      "source": "len(m)",
      "metadata": {
        "trusted": true
      },
      "execution_count": 21,
      "outputs": [
        {
          "execution_count": 21,
          "output_type": "execute_result",
          "data": {
            "text/plain": "7"
          },
          "metadata": {}
        }
      ]
    },
    {
      "cell_type": "code",
      "source": "m*2",
      "metadata": {
        "trusted": true
      },
      "execution_count": 22,
      "outputs": [
        {
          "execution_count": 22,
          "output_type": "execute_result",
          "data": {
            "text/plain": "'ashwiniashwini'"
          },
          "metadata": {}
        }
      ]
    },
    {
      "cell_type": "code",
      "source": "m.count(' ')",
      "metadata": {
        "trusted": true
      },
      "execution_count": 39,
      "outputs": [
        {
          "execution_count": 39,
          "output_type": "execute_result",
          "data": {
            "text/plain": "0"
          },
          "metadata": {}
        }
      ]
    },
    {
      "cell_type": "code",
      "source": "m.split(\"w\")",
      "metadata": {
        "trusted": true
      },
      "execution_count": 29,
      "outputs": [
        {
          "execution_count": 29,
          "output_type": "execute_result",
          "data": {
            "text/plain": "['ash', 'ini']"
          },
          "metadata": {}
        }
      ]
    },
    {
      "cell_type": "code",
      "source": "type(m.split())",
      "metadata": {
        "trusted": true
      },
      "execution_count": 31,
      "outputs": [
        {
          "execution_count": 31,
          "output_type": "execute_result",
          "data": {
            "text/plain": "list"
          },
          "metadata": {}
        }
      ]
    },
    {
      "cell_type": "code",
      "source": "w=\"Only international school offers Australian curriculum-based global education in Singapore. Explore our programs at the Early Learning Village. Holistic Education in Singapore. Small Class Sizes. World Class education. Ages 2 months - 18 years. Outstanding IB Results. Non-selective\"",
      "metadata": {
        "trusted": true
      },
      "execution_count": 33,
      "outputs": []
    },
    {
      "cell_type": "code",
      "source": "w",
      "metadata": {
        "trusted": true
      },
      "execution_count": 34,
      "outputs": [
        {
          "execution_count": 34,
          "output_type": "execute_result",
          "data": {
            "text/plain": "'Only international school offers Australian curriculum-based global education in Singapore. Explore our programs at the Early Learning Village. Holistic Education in Singapore. Small Class Sizes. World Class education. Ages 2 months - 18 years. Outstanding IB Results. Non-selective'"
          },
          "metadata": {}
        }
      ]
    },
    {
      "cell_type": "code",
      "source": "w.split(' ')",
      "metadata": {
        "trusted": true
      },
      "execution_count": 37,
      "outputs": [
        {
          "execution_count": 37,
          "output_type": "execute_result",
          "data": {
            "text/plain": "['Only',\n 'international',\n 'school',\n 'offers',\n 'Australian',\n 'curriculum-based',\n 'global',\n 'education',\n 'in',\n 'Singapore.',\n 'Explore',\n 'our',\n 'programs',\n 'at',\n 'the',\n 'Early',\n 'Learning',\n 'Village.',\n 'Holistic',\n 'Education',\n 'in',\n 'Singapore.',\n 'Small',\n 'Class',\n 'Sizes.',\n 'World',\n 'Class',\n 'education.',\n 'Ages',\n '2',\n 'months',\n '-',\n '18',\n 'years.',\n 'Outstanding',\n 'IB',\n 'Results.',\n 'Non-selective']"
          },
          "metadata": {}
        }
      ]
    },
    {
      "cell_type": "code",
      "source": "w.count(' ')",
      "metadata": {
        "trusted": true
      },
      "execution_count": 38,
      "outputs": [
        {
          "execution_count": 38,
          "output_type": "execute_result",
          "data": {
            "text/plain": "37"
          },
          "metadata": {}
        }
      ]
    },
    {
      "cell_type": "code",
      "source": "w.lower()",
      "metadata": {
        "trusted": true
      },
      "execution_count": 41,
      "outputs": [
        {
          "execution_count": 41,
          "output_type": "execute_result",
          "data": {
            "text/plain": "'only international school offers australian curriculum-based global education in singapore. explore our programs at the early learning village. holistic education in singapore. small class sizes. world class education. ages 2 months - 18 years. outstanding ib results. non-selective'"
          },
          "metadata": {}
        }
      ]
    },
    {
      "cell_type": "code",
      "source": "w.upper()",
      "metadata": {
        "trusted": true
      },
      "execution_count": 43,
      "outputs": [
        {
          "execution_count": 43,
          "output_type": "execute_result",
          "data": {
            "text/plain": "'ONLY INTERNATIONAL SCHOOL OFFERS AUSTRALIAN CURRICULUM-BASED GLOBAL EDUCATION IN SINGAPORE. EXPLORE OUR PROGRAMS AT THE EARLY LEARNING VILLAGE. HOLISTIC EDUCATION IN SINGAPORE. SMALL CLASS SIZES. WORLD CLASS EDUCATION. AGES 2 MONTHS - 18 YEARS. OUTSTANDING IB RESULTS. NON-SELECTIVE'"
          },
          "metadata": {}
        }
      ]
    },
    {
      "cell_type": "code",
      "source": "w.title()",
      "metadata": {
        "trusted": true
      },
      "execution_count": 44,
      "outputs": [
        {
          "execution_count": 44,
          "output_type": "execute_result",
          "data": {
            "text/plain": "'Only International School Offers Australian Curriculum-Based Global Education In Singapore. Explore Our Programs At The Early Learning Village. Holistic Education In Singapore. Small Class Sizes. World Class Education. Ages 2 Months - 18 Years. Outstanding Ib Results. Non-Selective'"
          },
          "metadata": {}
        }
      ]
    },
    {
      "cell_type": "code",
      "source": "w.swapcase()",
      "metadata": {
        "trusted": true
      },
      "execution_count": 45,
      "outputs": [
        {
          "execution_count": 45,
          "output_type": "execute_result",
          "data": {
            "text/plain": "'oNLY INTERNATIONAL SCHOOL OFFERS aUSTRALIAN CURRICULUM-BASED GLOBAL EDUCATION IN sINGAPORE. eXPLORE OUR PROGRAMS AT THE eARLY lEARNING vILLAGE. hOLISTIC eDUCATION IN sINGAPORE. sMALL cLASS sIZES. wORLD cLASS EDUCATION. aGES 2 MONTHS - 18 YEARS. oUTSTANDING ib rESULTS. nON-SELECTIVE'"
          },
          "metadata": {}
        }
      ]
    },
    {
      "cell_type": "code",
      "source": "reversed(m)",
      "metadata": {
        "trusted": true
      },
      "execution_count": 49,
      "outputs": [
        {
          "execution_count": 49,
          "output_type": "execute_result",
          "data": {
            "text/plain": "<reversed at 0x3758eb0>"
          },
          "metadata": {}
        }
      ]
    },
    {
      "cell_type": "code",
      "source": "''.join(reversed(m))",
      "metadata": {
        "trusted": true
      },
      "execution_count": 52,
      "outputs": [
        {
          "execution_count": 52,
          "output_type": "execute_result",
          "data": {
            "text/plain": "'iniwhsa'"
          },
          "metadata": {}
        }
      ]
    },
    {
      "cell_type": "code",
      "source": "m.startswith(\"a\")",
      "metadata": {
        "trusted": true
      },
      "execution_count": 57,
      "outputs": [
        {
          "execution_count": 57,
          "output_type": "execute_result",
          "data": {
            "text/plain": "True"
          },
          "metadata": {}
        }
      ]
    },
    {
      "cell_type": "code",
      "source": "m.endswith(\"i\")",
      "metadata": {
        "trusted": true
      },
      "execution_count": 59,
      "outputs": [
        {
          "execution_count": 59,
          "output_type": "execute_result",
          "data": {
            "text/plain": "True"
          },
          "metadata": {}
        }
      ]
    },
    {
      "cell_type": "code",
      "source": "reversed(m)",
      "metadata": {
        "trusted": true
      },
      "execution_count": 60,
      "outputs": [
        {
          "execution_count": 60,
          "output_type": "execute_result",
          "data": {
            "text/plain": "<reversed at 0x373f180>"
          },
          "metadata": {}
        }
      ]
    },
    {
      "cell_type": "code",
      "source": "s='ashwini\\is\\good\\girl'",
      "metadata": {
        "trusted": true
      },
      "execution_count": 71,
      "outputs": []
    },
    {
      "cell_type": "code",
      "source": "s",
      "metadata": {
        "trusted": true
      },
      "execution_count": 72,
      "outputs": [
        {
          "execution_count": 72,
          "output_type": "execute_result",
          "data": {
            "text/plain": "'ashwini\\\\is\\\\good\\\\girl'"
          },
          "metadata": {}
        }
      ]
    },
    {
      "cell_type": "code",
      "source": "s.expandtabs()",
      "metadata": {
        "trusted": true
      },
      "execution_count": 73,
      "outputs": [
        {
          "execution_count": 73,
          "output_type": "execute_result",
          "data": {
            "text/plain": "'ashwini\\\\is\\\\good\\\\girl'"
          },
          "metadata": {}
        }
      ]
    },
    {
      "cell_type": "code",
      "source": "s",
      "metadata": {
        "trusted": true
      },
      "execution_count": 74,
      "outputs": [
        {
          "execution_count": 74,
          "output_type": "execute_result",
          "data": {
            "text/plain": "'ashwini\\\\is\\\\good\\\\girl'"
          },
          "metadata": {}
        }
      ]
    },
    {
      "cell_type": "code",
      "source": "k='this is my first python class'",
      "metadata": {
        "trusted": true
      },
      "execution_count": 76,
      "outputs": []
    },
    {
      "cell_type": "code",
      "source": "k.capitalize()",
      "metadata": {
        "trusted": true
      },
      "execution_count": 80,
      "outputs": [
        {
          "execution_count": 80,
          "output_type": "execute_result",
          "data": {
            "text/plain": "'This is my first python class'"
          },
          "metadata": {}
        }
      ]
    },
    {
      "cell_type": "code",
      "source": "s.startswith('a')",
      "metadata": {
        "trusted": true
      },
      "execution_count": 82,
      "outputs": [
        {
          "execution_count": 82,
          "output_type": "execute_result",
          "data": {
            "text/plain": "True"
          },
          "metadata": {}
        }
      ]
    },
    {
      "cell_type": "code",
      "source": "s.isdigit()",
      "metadata": {
        "trusted": true
      },
      "execution_count": 85,
      "outputs": [
        {
          "execution_count": 85,
          "output_type": "execute_result",
          "data": {
            "text/plain": "False"
          },
          "metadata": {}
        }
      ]
    },
    {
      "cell_type": "code",
      "source": "m.isalnum()",
      "metadata": {
        "trusted": true
      },
      "execution_count": 88,
      "outputs": [
        {
          "execution_count": 88,
          "output_type": "execute_result",
          "data": {
            "text/plain": "True"
          },
          "metadata": {}
        }
      ]
    },
    {
      "cell_type": "code",
      "source": "b='ashu123'",
      "metadata": {
        "trusted": true
      },
      "execution_count": 97,
      "outputs": []
    },
    {
      "cell_type": "code",
      "source": "b",
      "metadata": {
        "trusted": true
      },
      "execution_count": 98,
      "outputs": [
        {
          "execution_count": 98,
          "output_type": "execute_result",
          "data": {
            "text/plain": "'ashu123'"
          },
          "metadata": {}
        }
      ]
    },
    {
      "cell_type": "code",
      "source": "b.isalnum()",
      "metadata": {
        "trusted": true
      },
      "execution_count": 99,
      "outputs": [
        {
          "execution_count": 99,
          "output_type": "execute_result",
          "data": {
            "text/plain": "True"
          },
          "metadata": {}
        }
      ]
    },
    {
      "cell_type": "code",
      "source": "b.isspace()",
      "metadata": {
        "trusted": true
      },
      "execution_count": 100,
      "outputs": [
        {
          "execution_count": 100,
          "output_type": "execute_result",
          "data": {
            "text/plain": "False"
          },
          "metadata": {}
        }
      ]
    },
    {
      "cell_type": "code",
      "source": "s.expandtabs()",
      "metadata": {
        "trusted": true
      },
      "execution_count": 102,
      "outputs": [
        {
          "execution_count": 102,
          "output_type": "execute_result",
          "data": {
            "text/plain": "'ashwini\\\\is\\\\good\\\\girl'"
          },
          "metadata": {}
        }
      ]
    },
    {
      "cell_type": "code",
      "source": "a=' ku shal tim '",
      "metadata": {
        "trusted": true
      },
      "execution_count": 126,
      "outputs": []
    },
    {
      "cell_type": "code",
      "source": "''.join(reversed(a))",
      "metadata": {
        "trusted": true
      },
      "execution_count": 127,
      "outputs": [
        {
          "execution_count": 127,
          "output_type": "execute_result",
          "data": {
            "text/plain": "' mit lahs uk '"
          },
          "metadata": {}
        }
      ]
    },
    {
      "cell_type": "code",
      "source": "a.strip()",
      "metadata": {
        "trusted": true
      },
      "execution_count": 128,
      "outputs": [
        {
          "execution_count": 128,
          "output_type": "execute_result",
          "data": {
            "text/plain": "'ku shal tim'"
          },
          "metadata": {}
        }
      ]
    },
    {
      "cell_type": "code",
      "source": "a.lstrip()",
      "metadata": {
        "trusted": true
      },
      "execution_count": 129,
      "outputs": [
        {
          "execution_count": 129,
          "output_type": "execute_result",
          "data": {
            "text/plain": "'ku shal tim '"
          },
          "metadata": {}
        }
      ]
    },
    {
      "cell_type": "code",
      "source": "a.rstrip()",
      "metadata": {
        "trusted": true
      },
      "execution_count": 130,
      "outputs": [
        {
          "execution_count": 130,
          "output_type": "execute_result",
          "data": {
            "text/plain": "' ku shal tim'"
          },
          "metadata": {}
        }
      ]
    },
    {
      "cell_type": "code",
      "source": "a.split()",
      "metadata": {
        "trusted": true
      },
      "execution_count": 131,
      "outputs": [
        {
          "execution_count": 131,
          "output_type": "execute_result",
          "data": {
            "text/plain": "['ku', 'shal', 'tim']"
          },
          "metadata": {}
        }
      ]
    },
    {
      "cell_type": "code",
      "source": "a.lstrip()",
      "metadata": {
        "trusted": true
      },
      "execution_count": 119,
      "outputs": [
        {
          "execution_count": 119,
          "output_type": "execute_result",
          "data": {
            "text/plain": "'kushal tim'"
          },
          "metadata": {}
        }
      ]
    },
    {
      "cell_type": "code",
      "source": "g='this is My First python pogramming class and i am learNING python string and its function'",
      "metadata": {
        "trusted": true
      },
      "execution_count": 156,
      "outputs": []
    },
    {
      "cell_type": "code",
      "source": "g",
      "metadata": {
        "trusted": true
      },
      "execution_count": 157,
      "outputs": [
        {
          "execution_count": 157,
          "output_type": "execute_result",
          "data": {
            "text/plain": "'this is My First python pogramming class and i am learNING python string and its function'"
          },
          "metadata": {}
        }
      ]
    },
    {
      "cell_type": "code",
      "source": "g[1:300:3]   #ans1",
      "metadata": {
        "trusted": true
      },
      "execution_count": 158,
      "outputs": [
        {
          "execution_count": 158,
          "output_type": "execute_result",
          "data": {
            "text/plain": "'h   r tnoai a d  aI tntna sutn'"
          },
          "metadata": {}
        }
      ]
    },
    {
      "cell_type": "code",
      "source": "g.split()",
      "metadata": {
        "trusted": true
      },
      "execution_count": 136,
      "outputs": [
        {
          "execution_count": 136,
          "output_type": "execute_result",
          "data": {
            "text/plain": "['this',\n 'is',\n 'My',\n 'First',\n 'python',\n 'class',\n 'and',\n 'i',\n 'am',\n 'learNINng',\n 'python',\n 'string',\n 'and',\n 'its',\n 'function']"
          },
          "metadata": {}
        }
      ]
    },
    {
      "cell_type": "code",
      "source": "g.split(g.upper())",
      "metadata": {
        "trusted": true
      },
      "execution_count": 138,
      "outputs": [
        {
          "execution_count": 138,
          "output_type": "execute_result",
          "data": {
            "text/plain": "['this is My First python class and i am learNINng python string and its function']"
          },
          "metadata": {}
        }
      ]
    },
    {
      "cell_type": "code",
      "source": "g.split()   #ans3\ng.upper()",
      "metadata": {
        "trusted": true
      },
      "execution_count": 139,
      "outputs": [
        {
          "execution_count": 139,
          "output_type": "execute_result",
          "data": {
            "text/plain": "'THIS IS MY FIRST PYTHON CLASS AND I AM LEARNINNG PYTHON STRING AND ITS FUNCTION'"
          },
          "metadata": {}
        }
      ]
    },
    {
      "cell_type": "code",
      "source": "g.lower()",
      "metadata": {
        "trusted": true
      },
      "execution_count": 140,
      "outputs": [
        {
          "execution_count": 140,
          "output_type": "execute_result",
          "data": {
            "text/plain": "'this is my first python class and i am learninng python string and its function'"
          },
          "metadata": {}
        }
      ]
    },
    {
      "cell_type": "code",
      "source": "g.capitalize()",
      "metadata": {
        "trusted": true
      },
      "execution_count": 141,
      "outputs": [
        {
          "execution_count": 141,
          "output_type": "execute_result",
          "data": {
            "text/plain": "'This is my first python class and i am learninng python string and its function'"
          },
          "metadata": {}
        }
      ]
    },
    {
      "cell_type": "code",
      "source": "n=\"this\\ismysimplepythonpogram\\onstring\"",
      "metadata": {
        "trusted": true
      },
      "execution_count": 147,
      "outputs": []
    },
    {
      "cell_type": "code",
      "source": "n",
      "metadata": {
        "trusted": true
      },
      "execution_count": 148,
      "outputs": [
        {
          "execution_count": 148,
          "output_type": "execute_result",
          "data": {
            "text/plain": "'this\\\\ismysimplepythonpogram\\\\onstring'"
          },
          "metadata": {}
        }
      ]
    },
    {
      "cell_type": "code",
      "source": "n.expandtabs()",
      "metadata": {
        "trusted": true
      },
      "execution_count": 149,
      "outputs": [
        {
          "execution_count": 149,
          "output_type": "execute_result",
          "data": {
            "text/plain": "'this\\\\ismysimplepythonpogram\\\\onstring'"
          },
          "metadata": {}
        }
      ]
    },
    {
      "cell_type": "code",
      "source": "f=\"  stri p \"",
      "metadata": {
        "trusted": true
      },
      "execution_count": 150,
      "outputs": []
    },
    {
      "cell_type": "code",
      "source": "f",
      "metadata": {
        "trusted": true
      },
      "execution_count": 151,
      "outputs": [
        {
          "execution_count": 151,
          "output_type": "execute_result",
          "data": {
            "text/plain": "'  stri p '"
          },
          "metadata": {}
        }
      ]
    },
    {
      "cell_type": "code",
      "source": "f.strip()",
      "metadata": {
        "trusted": true
      },
      "execution_count": 152,
      "outputs": [
        {
          "execution_count": 152,
          "output_type": "execute_result",
          "data": {
            "text/plain": "'stri p'"
          },
          "metadata": {}
        }
      ]
    },
    {
      "cell_type": "code",
      "source": "f.lstrip()",
      "metadata": {
        "trusted": true
      },
      "execution_count": 153,
      "outputs": [
        {
          "execution_count": 153,
          "output_type": "execute_result",
          "data": {
            "text/plain": "'stri p '"
          },
          "metadata": {}
        }
      ]
    },
    {
      "cell_type": "code",
      "source": "f.lstrip()",
      "metadata": {
        "trusted": true
      },
      "execution_count": 154,
      "outputs": [
        {
          "execution_count": 154,
          "output_type": "execute_result",
          "data": {
            "text/plain": "'stri p '"
          },
          "metadata": {}
        }
      ]
    },
    {
      "cell_type": "code",
      "source": "g[::-1]",
      "metadata": {
        "trusted": true
      },
      "execution_count": 160,
      "outputs": [
        {
          "execution_count": 160,
          "output_type": "execute_result",
          "data": {
            "text/plain": "'noitcnuf sti dna gnirts nohtyp GNINrael ma i dna ssalc gnimmargop nohtyp tsriF yM si siht'"
          },
          "metadata": {}
        }
      ]
    },
    {
      "cell_type": "code",
      "source": "n.expandtabs()",
      "metadata": {
        "trusted": true
      },
      "execution_count": 161,
      "outputs": [
        {
          "execution_count": 161,
          "output_type": "execute_result",
          "data": {
            "text/plain": "'this\\\\ismysimplepythonpogram\\\\onstring'"
          },
          "metadata": {}
        }
      ]
    },
    {
      "cell_type": "code",
      "source": "q='ashwini'",
      "metadata": {
        "trusted": true
      },
      "execution_count": 167,
      "outputs": []
    },
    {
      "cell_type": "code",
      "source": "q.replace('w','u',4)",
      "metadata": {
        "trusted": true
      },
      "execution_count": 169,
      "outputs": [
        {
          "execution_count": 169,
          "output_type": "execute_result",
          "data": {
            "text/plain": "'ashuini'"
          },
          "metadata": {}
        }
      ]
    },
    {
      "cell_type": "code",
      "source": "q.center(7)",
      "metadata": {
        "trusted": true
      },
      "execution_count": 170,
      "outputs": [
        {
          "execution_count": 170,
          "output_type": "execute_result",
          "data": {
            "text/plain": "'ashwini'"
          },
          "metadata": {}
        }
      ]
    },
    {
      "cell_type": "code",
      "source": "",
      "metadata": {},
      "execution_count": null,
      "outputs": []
    }
  ]
}